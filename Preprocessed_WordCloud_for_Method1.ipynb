{
 "cells": [
  {
   "cell_type": "code",
   "execution_count": 1,
   "id": "f36e16a0",
   "metadata": {},
   "outputs": [],
   "source": [
    "import pandas as pd\n",
    "import string\n",
    "import re\n",
    "from nltk.tokenize import word_tokenize\n",
    "from nltk.corpus import stopwords\n",
    "from nltk.stem import WordNetLemmatizer\n",
    "from nltk.probability import FreqDist"
   ]
  },
  {
   "cell_type": "code",
   "execution_count": 2,
   "id": "21e5af71",
   "metadata": {},
   "outputs": [
    {
     "name": "stdout",
     "output_type": "stream",
     "text": [
      "Number of tweets:  154117\n"
     ]
    },
    {
     "name": "stderr",
     "output_type": "stream",
     "text": [
      "C:\\Users\\Karthika Preethi\\Anaconda3\\lib\\site-packages\\IPython\\core\\interactiveshell.py:3441: DtypeWarning: Columns (7) have mixed types.Specify dtype option on import or set low_memory=False.\n",
      "  exec(code_obj, self.user_global_ns, self.user_ns)\n"
     ]
    },
    {
     "data": {
      "text/html": [
       "<div>\n",
       "<style scoped>\n",
       "    .dataframe tbody tr th:only-of-type {\n",
       "        vertical-align: middle;\n",
       "    }\n",
       "\n",
       "    .dataframe tbody tr th {\n",
       "        vertical-align: top;\n",
       "    }\n",
       "\n",
       "    .dataframe thead th {\n",
       "        text-align: right;\n",
       "    }\n",
       "</style>\n",
       "<table border=\"1\" class=\"dataframe\">\n",
       "  <thead>\n",
       "    <tr style=\"text-align: right;\">\n",
       "      <th></th>\n",
       "      <th>Unnamed: 0</th>\n",
       "      <th>Unnamed: 0.1</th>\n",
       "      <th>id</th>\n",
       "      <th>conversation_id</th>\n",
       "      <th>created_at</th>\n",
       "      <th>date</th>\n",
       "      <th>timezone</th>\n",
       "      <th>place</th>\n",
       "      <th>tweet</th>\n",
       "      <th>language</th>\n",
       "      <th>...</th>\n",
       "      <th>geo</th>\n",
       "      <th>source</th>\n",
       "      <th>user_rt_id</th>\n",
       "      <th>user_rt</th>\n",
       "      <th>retweet_id</th>\n",
       "      <th>reply_to</th>\n",
       "      <th>retweet_date</th>\n",
       "      <th>translate</th>\n",
       "      <th>trans_src</th>\n",
       "      <th>trans_dest</th>\n",
       "    </tr>\n",
       "  </thead>\n",
       "  <tbody>\n",
       "    <tr>\n",
       "      <th>0</th>\n",
       "      <td>0</td>\n",
       "      <td>0</td>\n",
       "      <td>1594481807558430720</td>\n",
       "      <td>1594481807558430720</td>\n",
       "      <td>1.668989e+12</td>\n",
       "      <td>2022-11-21 00:04:21</td>\n",
       "      <td>0</td>\n",
       "      <td>NaN</td>\n",
       "      <td>Data as a new design material: ethical implica...</td>\n",
       "      <td>en</td>\n",
       "      <td>...</td>\n",
       "      <td>NaN</td>\n",
       "      <td>NaN</td>\n",
       "      <td>NaN</td>\n",
       "      <td>NaN</td>\n",
       "      <td>NaN</td>\n",
       "      <td>[]</td>\n",
       "      <td>NaN</td>\n",
       "      <td>NaN</td>\n",
       "      <td>NaN</td>\n",
       "      <td>NaN</td>\n",
       "    </tr>\n",
       "    <tr>\n",
       "      <th>1</th>\n",
       "      <td>1</td>\n",
       "      <td>1</td>\n",
       "      <td>1592919585577373698</td>\n",
       "      <td>1592919585577373698</td>\n",
       "      <td>1.668617e+12</td>\n",
       "      <td>2022-11-16 16:36:38</td>\n",
       "      <td>0</td>\n",
       "      <td>NaN</td>\n",
       "      <td>IT graduates, the monies are steeped on your s...</td>\n",
       "      <td>en</td>\n",
       "      <td>...</td>\n",
       "      <td>NaN</td>\n",
       "      <td>NaN</td>\n",
       "      <td>NaN</td>\n",
       "      <td>NaN</td>\n",
       "      <td>NaN</td>\n",
       "      <td>[]</td>\n",
       "      <td>NaN</td>\n",
       "      <td>NaN</td>\n",
       "      <td>NaN</td>\n",
       "      <td>NaN</td>\n",
       "    </tr>\n",
       "    <tr>\n",
       "      <th>2</th>\n",
       "      <td>2</td>\n",
       "      <td>2</td>\n",
       "      <td>1592871515858808832</td>\n",
       "      <td>1592871492479782916</td>\n",
       "      <td>1.668605e+12</td>\n",
       "      <td>2022-11-16 13:25:38</td>\n",
       "      <td>0</td>\n",
       "      <td>NaN</td>\n",
       "      <td>Third, the last principle of generosity experi...</td>\n",
       "      <td>en</td>\n",
       "      <td>...</td>\n",
       "      <td>NaN</td>\n",
       "      <td>NaN</td>\n",
       "      <td>NaN</td>\n",
       "      <td>NaN</td>\n",
       "      <td>NaN</td>\n",
       "      <td>[]</td>\n",
       "      <td>NaN</td>\n",
       "      <td>NaN</td>\n",
       "      <td>NaN</td>\n",
       "      <td>NaN</td>\n",
       "    </tr>\n",
       "    <tr>\n",
       "      <th>3</th>\n",
       "      <td>3</td>\n",
       "      <td>3</td>\n",
       "      <td>1591974859567165440</td>\n",
       "      <td>1591493075565948940</td>\n",
       "      <td>1.668391e+12</td>\n",
       "      <td>2022-11-14 02:02:38</td>\n",
       "      <td>0</td>\n",
       "      <td>NaN</td>\n",
       "      <td>@CubanBTC @Sim_Startup_ @cantrell •Computer vi...</td>\n",
       "      <td>en</td>\n",
       "      <td>...</td>\n",
       "      <td>NaN</td>\n",
       "      <td>NaN</td>\n",
       "      <td>NaN</td>\n",
       "      <td>NaN</td>\n",
       "      <td>NaN</td>\n",
       "      <td>[{'screen_name': 'CubanBTC', 'name': 'CubanHod...</td>\n",
       "      <td>NaN</td>\n",
       "      <td>NaN</td>\n",
       "      <td>NaN</td>\n",
       "      <td>NaN</td>\n",
       "    </tr>\n",
       "    <tr>\n",
       "      <th>4</th>\n",
       "      <td>4</td>\n",
       "      <td>4</td>\n",
       "      <td>1591809985071104001</td>\n",
       "      <td>1591809979819773952</td>\n",
       "      <td>1.668352e+12</td>\n",
       "      <td>2022-11-13 15:07:29</td>\n",
       "      <td>0</td>\n",
       "      <td>NaN</td>\n",
       "      <td>Non-tech roles:  • Human Resources • Artificia...</td>\n",
       "      <td>en</td>\n",
       "      <td>...</td>\n",
       "      <td>NaN</td>\n",
       "      <td>NaN</td>\n",
       "      <td>NaN</td>\n",
       "      <td>NaN</td>\n",
       "      <td>NaN</td>\n",
       "      <td>[]</td>\n",
       "      <td>NaN</td>\n",
       "      <td>NaN</td>\n",
       "      <td>NaN</td>\n",
       "      <td>NaN</td>\n",
       "    </tr>\n",
       "  </tbody>\n",
       "</table>\n",
       "<p>5 rows × 40 columns</p>\n",
       "</div>"
      ],
      "text/plain": [
       "   Unnamed: 0  Unnamed: 0.1                   id      conversation_id  \\\n",
       "0           0             0  1594481807558430720  1594481807558430720   \n",
       "1           1             1  1592919585577373698  1592919585577373698   \n",
       "2           2             2  1592871515858808832  1592871492479782916   \n",
       "3           3             3  1591974859567165440  1591493075565948940   \n",
       "4           4             4  1591809985071104001  1591809979819773952   \n",
       "\n",
       "     created_at                 date  timezone place  \\\n",
       "0  1.668989e+12  2022-11-21 00:04:21         0   NaN   \n",
       "1  1.668617e+12  2022-11-16 16:36:38         0   NaN   \n",
       "2  1.668605e+12  2022-11-16 13:25:38         0   NaN   \n",
       "3  1.668391e+12  2022-11-14 02:02:38         0   NaN   \n",
       "4  1.668352e+12  2022-11-13 15:07:29         0   NaN   \n",
       "\n",
       "                                               tweet language  ... geo source  \\\n",
       "0  Data as a new design material: ethical implica...       en  ... NaN    NaN   \n",
       "1  IT graduates, the monies are steeped on your s...       en  ... NaN    NaN   \n",
       "2  Third, the last principle of generosity experi...       en  ... NaN    NaN   \n",
       "3  @CubanBTC @Sim_Startup_ @cantrell •Computer vi...       en  ... NaN    NaN   \n",
       "4  Non-tech roles:  • Human Resources • Artificia...       en  ... NaN    NaN   \n",
       "\n",
       "   user_rt_id  user_rt retweet_id  \\\n",
       "0         NaN      NaN        NaN   \n",
       "1         NaN      NaN        NaN   \n",
       "2         NaN      NaN        NaN   \n",
       "3         NaN      NaN        NaN   \n",
       "4         NaN      NaN        NaN   \n",
       "\n",
       "                                            reply_to  retweet_date  translate  \\\n",
       "0                                                 []           NaN        NaN   \n",
       "1                                                 []           NaN        NaN   \n",
       "2                                                 []           NaN        NaN   \n",
       "3  [{'screen_name': 'CubanBTC', 'name': 'CubanHod...           NaN        NaN   \n",
       "4                                                 []           NaN        NaN   \n",
       "\n",
       "  trans_src trans_dest  \n",
       "0       NaN        NaN  \n",
       "1       NaN        NaN  \n",
       "2       NaN        NaN  \n",
       "3       NaN        NaN  \n",
       "4       NaN        NaN  \n",
       "\n",
       "[5 rows x 40 columns]"
      ]
     },
     "execution_count": 2,
     "metadata": {},
     "output_type": "execute_result"
    }
   ],
   "source": [
    "df = pd.read_csv('mergeddatasettweets_for_method1.csv')\n",
    "print(\"Number of tweets: \",len(df['tweet']))\n",
    "df.head(5)"
   ]
  },
  {
   "cell_type": "code",
   "execution_count": 3,
   "id": "7ee00cab",
   "metadata": {},
   "outputs": [
    {
     "data": {
      "text/plain": [
       "Unnamed: 0           int64\n",
       "Unnamed: 0.1         int64\n",
       "id                   int64\n",
       "conversation_id      int64\n",
       "created_at         float64\n",
       "date                object\n",
       "timezone             int64\n",
       "place               object\n",
       "tweet               object\n",
       "language            object\n",
       "hashtags            object\n",
       "cashtags            object\n",
       "user_id              int64\n",
       "user_id_str          int64\n",
       "username            object\n",
       "name                object\n",
       "day                  int64\n",
       "hour                 int64\n",
       "link                object\n",
       "urls                object\n",
       "photos              object\n",
       "video                int64\n",
       "thumbnail           object\n",
       "retweet               bool\n",
       "nlikes               int64\n",
       "nreplies             int64\n",
       "nretweets            int64\n",
       "quote_url           object\n",
       "search              object\n",
       "near               float64\n",
       "geo                float64\n",
       "source             float64\n",
       "user_rt_id         float64\n",
       "user_rt            float64\n",
       "retweet_id         float64\n",
       "reply_to            object\n",
       "retweet_date       float64\n",
       "translate          float64\n",
       "trans_src          float64\n",
       "trans_dest         float64\n",
       "dtype: object"
      ]
     },
     "execution_count": 3,
     "metadata": {},
     "output_type": "execute_result"
    }
   ],
   "source": [
    "df.dtypes"
   ]
  },
  {
   "cell_type": "code",
   "execution_count": 4,
   "id": "fccdd7bc",
   "metadata": {},
   "outputs": [
    {
     "data": {
      "text/plain": [
       "Index(['Unnamed: 0', 'Unnamed: 0.1', 'id', 'conversation_id', 'created_at',\n",
       "       'date', 'timezone', 'tweet', 'language', 'hashtags', 'cashtags',\n",
       "       'user_id', 'user_id_str', 'username', 'name', 'day', 'hour', 'link',\n",
       "       'urls', 'photos', 'video', 'retweet', 'nlikes', 'nreplies', 'nretweets',\n",
       "       'search', 'reply_to'],\n",
       "      dtype='object')"
      ]
     },
     "execution_count": 4,
     "metadata": {},
     "output_type": "execute_result"
    }
   ],
   "source": [
    "df.dropna(axis='columns', inplace=True)\n",
    "df.columns"
   ]
  },
  {
   "cell_type": "code",
   "execution_count": 5,
   "id": "954c734c",
   "metadata": {},
   "outputs": [],
   "source": [
    "df = df[['tweet']]"
   ]
  },
  {
   "cell_type": "code",
   "execution_count": 6,
   "id": "fbc3c1ac",
   "metadata": {},
   "outputs": [
    {
     "data": {
      "text/plain": [
       "(154117, 1)"
      ]
     },
     "execution_count": 6,
     "metadata": {},
     "output_type": "execute_result"
    }
   ],
   "source": [
    "df.drop_duplicates()\n",
    "df.shape"
   ]
  },
  {
   "cell_type": "code",
   "execution_count": 7,
   "id": "ba080e7e",
   "metadata": {},
   "outputs": [],
   "source": [
    "import re\n",
    "import gensim\n",
    "from nltk.stem import WordNetLemmatizer\n",
    "punctuation = '!”$%&\\’()*+,-./:;<=>?[\\\\]^_`{|}~•@'"
   ]
  },
  {
   "cell_type": "code",
   "execution_count": 8,
   "id": "1bdae6d9",
   "metadata": {},
   "outputs": [],
   "source": [
    "#Removing Links\n",
    "def remove_links(tweet):\n",
    "    tweet = re.sub(r'http\\S+', '', tweet)   # remove http links\n",
    "    tweet = re.sub(r'bit.ly/\\S+', '', tweet)  # remove bitly links\n",
    "    tweet = tweet.strip('[link]')   # remove [links]\n",
    "    tweet = re.sub(r'pic.twitter\\S+','', tweet)\n",
    "    return tweet\n"
   ]
  },
  {
   "cell_type": "code",
   "execution_count": 9,
   "id": "456524b5",
   "metadata": {},
   "outputs": [],
   "source": [
    "#Removing retweet and @user information\n",
    "def remove_users(tweet):\n",
    "    tweet = re.sub('(RT\\s@[A-Za-z]+[A-Za-z0-9-_]+)', '', tweet)  # remove re-tweet\n",
    "    tweet = re.sub('(@[A-Za-z]+[A-Za-z0-9-_]+)', '', tweet)  # remove tweeted at\n",
    "    return tweet"
   ]
  },
  {
   "cell_type": "code",
   "execution_count": 10,
   "id": "9bc0667c",
   "metadata": {},
   "outputs": [],
   "source": [
    "#Removing Hashtags\n",
    "def remove_hashtags(tweet):\n",
    "    tweet = re.sub('(#[A-Za-z]+[A-Za-z0-9-_]+)', '', tweet)  # remove hash tags\n",
    "    return tweet"
   ]
  },
  {
   "cell_type": "code",
   "execution_count": 11,
   "id": "ff08eea3",
   "metadata": {},
   "outputs": [],
   "source": [
    "#Removing Audio/Video tags or labels\n",
    "def remove_av(tweet):\n",
    "    tweet = re.sub('VIDEO:', '', tweet)  # remove 'VIDEO:' from start of tweet\n",
    "    tweet = re.sub('AUDIO:', '', tweet)  # remove 'AUDIO:' from start of tweet\n",
    "    return tweet"
   ]
  },
  {
   "cell_type": "code",
   "execution_count": 12,
   "id": "fb41a9ad",
   "metadata": {},
   "outputs": [],
   "source": [
    "#Tokenization\n",
    "def tokenize(tweet):\n",
    "    result = []\n",
    "    for token in gensim.utils.simple_preprocess(tweet):\n",
    "        if token not in gensim.parsing.preprocessing.STOPWORDS \\\n",
    "                and len(token) > 2:  # drops words with less than 3 characters\n",
    "            result.append(lemmatize(token))\n",
    "    return result"
   ]
  },
  {
   "cell_type": "code",
   "execution_count": 13,
   "id": "002d44c5",
   "metadata": {},
   "outputs": [],
   "source": [
    "#Lemmatization\n",
    "def lemmatize(token):\n",
    "    return WordNetLemmatizer().lemmatize(token, pos='v')"
   ]
  },
  {
   "cell_type": "code",
   "execution_count": 14,
   "id": "93338ba2",
   "metadata": {},
   "outputs": [],
   "source": [
    "#Main function to clean tweets\n",
    "def preprocess_tweet(tweet):\n",
    "    tweet = remove_users(tweet)\n",
    "    tweet = remove_links(tweet)\n",
    "    tweet = remove_hashtags(tweet)\n",
    "    tweet = remove_av(tweet)\n",
    "    tweet = tweet.lower()  # lower case\n",
    "    tweet = re.sub('[' + punctuation + ']+', ' ', tweet)  # strip punctuation\n",
    "    tweet = re.sub('\\s+', ' ', tweet)  # remove double spacing\n",
    "    tweet = re.sub('([0-9]+)', '', tweet)  # remove numbers\n",
    "    tweet_token_list = tokenize(tweet)  # apply lemmatization and tokenization\n",
    "    tweet = ' '.join(tweet_token_list)\n",
    "    return tweet"
   ]
  },
  {
   "cell_type": "code",
   "execution_count": 15,
   "id": "ebcef96a",
   "metadata": {},
   "outputs": [],
   "source": [
    "#Another Main function to clean tweets without tokenization or removal of stopwords\n",
    "def basic_clean(tweet):\n",
    "    tweet = remove_users(tweet)\n",
    "    tweet = remove_links(tweet)\n",
    "    tweet = remove_hashtags(tweet)\n",
    "    tweet = remove_av(tweet)\n",
    "    tweet = tweet.lower()  # lower case\n",
    "    tweet = re.sub('[' + punctuation + ']+', ' ', tweet)  # strip punctuation\n",
    "    tweet = re.sub('\\s+', ' ', tweet)  # remove double spacing\n",
    "    tweet = re.sub('([0-9]+)', '', tweet)  # remove numbers\n",
    "    tweet = re.sub('📝 …', '', tweet)\n",
    "    return tweet"
   ]
  },
  {
   "cell_type": "code",
   "execution_count": 23,
   "id": "dc6fa369",
   "metadata": {},
   "outputs": [],
   "source": [
    "def tokenize_tweets(df):\n",
    "    df['tokens'] = df.tweet.apply(preprocess_tweet)\n",
    "    num_tweets = len(df)\n",
    "    print('Complete. Number of Tweets that have been cleaned and tokenized : {}'.format(num_tweets))\n",
    "    return df"
   ]
  },
  {
   "cell_type": "code",
   "execution_count": 24,
   "id": "55204a1b",
   "metadata": {},
   "outputs": [
    {
     "name": "stdout",
     "output_type": "stream",
     "text": [
      "Complete. Number of Tweets that have been cleaned and tokenized : 154117\n"
     ]
    },
    {
     "data": {
      "text/html": [
       "<div>\n",
       "<style scoped>\n",
       "    .dataframe tbody tr th:only-of-type {\n",
       "        vertical-align: middle;\n",
       "    }\n",
       "\n",
       "    .dataframe tbody tr th {\n",
       "        vertical-align: top;\n",
       "    }\n",
       "\n",
       "    .dataframe thead th {\n",
       "        text-align: right;\n",
       "    }\n",
       "</style>\n",
       "<table border=\"1\" class=\"dataframe\">\n",
       "  <thead>\n",
       "    <tr style=\"text-align: right;\">\n",
       "      <th></th>\n",
       "      <th>tweet</th>\n",
       "      <th>tokens</th>\n",
       "    </tr>\n",
       "  </thead>\n",
       "  <tbody>\n",
       "    <tr>\n",
       "      <th>0</th>\n",
       "      <td>Data as a new design material: ethical implica...</td>\n",
       "      <td>data new design material ethical implications ...</td>\n",
       "    </tr>\n",
       "    <tr>\n",
       "      <th>1</th>\n",
       "      <td>IT graduates, the monies are steeped on your s...</td>\n",
       "      <td>graduate monies steep global demand skills art...</td>\n",
       "    </tr>\n",
       "    <tr>\n",
       "      <th>2</th>\n",
       "      <td>Third, the last principle of generosity experi...</td>\n",
       "      <td>principle generosity experience design tech ac...</td>\n",
       "    </tr>\n",
       "    <tr>\n",
       "      <th>3</th>\n",
       "      <td>@CubanBTC @Sim_Startup_ @cantrell •Computer vi...</td>\n",
       "      <td>vision engineer data engineer algorithm engine...</td>\n",
       "    </tr>\n",
       "    <tr>\n",
       "      <th>4</th>\n",
       "      <td>Non-tech roles:  • Human Resources • Artificia...</td>\n",
       "      <td>non tech roles human resources artificial inte...</td>\n",
       "    </tr>\n",
       "  </tbody>\n",
       "</table>\n",
       "</div>"
      ],
      "text/plain": [
       "                                               tweet  \\\n",
       "0  Data as a new design material: ethical implica...   \n",
       "1  IT graduates, the monies are steeped on your s...   \n",
       "2  Third, the last principle of generosity experi...   \n",
       "3  @CubanBTC @Sim_Startup_ @cantrell •Computer vi...   \n",
       "4  Non-tech roles:  • Human Resources • Artificia...   \n",
       "\n",
       "                                              tokens  \n",
       "0  data new design material ethical implications ...  \n",
       "1  graduate monies steep global demand skills art...  \n",
       "2  principle generosity experience design tech ac...  \n",
       "3  vision engineer data engineer algorithm engine...  \n",
       "4  non tech roles human resources artificial inte...  "
      ]
     },
     "execution_count": 24,
     "metadata": {},
     "output_type": "execute_result"
    }
   ],
   "source": [
    "import preprocessor\n",
    "#from preprocessor import tokenizetweets\n",
    "df = tokenize_tweets(df)\n",
    "df.head(5)"
   ]
  },
  {
   "cell_type": "code",
   "execution_count": 25,
   "id": "c47713ea",
   "metadata": {},
   "outputs": [
    {
     "data": {
      "text/html": [
       "<div>\n",
       "<style scoped>\n",
       "    .dataframe tbody tr th:only-of-type {\n",
       "        vertical-align: middle;\n",
       "    }\n",
       "\n",
       "    .dataframe tbody tr th {\n",
       "        vertical-align: top;\n",
       "    }\n",
       "\n",
       "    .dataframe thead th {\n",
       "        text-align: right;\n",
       "    }\n",
       "</style>\n",
       "<table border=\"1\" class=\"dataframe\">\n",
       "  <thead>\n",
       "    <tr style=\"text-align: right;\">\n",
       "      <th></th>\n",
       "      <th>tweet</th>\n",
       "      <th>tokens</th>\n",
       "    </tr>\n",
       "  </thead>\n",
       "  <tbody>\n",
       "    <tr>\n",
       "      <th>0</th>\n",
       "      <td>Data as a new design material: ethical implica...</td>\n",
       "      <td>data new design material ethical implications ...</td>\n",
       "    </tr>\n",
       "    <tr>\n",
       "      <th>1</th>\n",
       "      <td>IT graduates, the monies are steeped on your s...</td>\n",
       "      <td>graduate monies steep global demand skills art...</td>\n",
       "    </tr>\n",
       "    <tr>\n",
       "      <th>2</th>\n",
       "      <td>Third, the last principle of generosity experi...</td>\n",
       "      <td>principle generosity experience design tech ac...</td>\n",
       "    </tr>\n",
       "    <tr>\n",
       "      <th>3</th>\n",
       "      <td>@CubanBTC @Sim_Startup_ @cantrell •Computer vi...</td>\n",
       "      <td>vision engineer data engineer algorithm engine...</td>\n",
       "    </tr>\n",
       "    <tr>\n",
       "      <th>4</th>\n",
       "      <td>Non-tech roles:  • Human Resources • Artificia...</td>\n",
       "      <td>non tech roles human resources artificial inte...</td>\n",
       "    </tr>\n",
       "    <tr>\n",
       "      <th>...</th>\n",
       "      <td>...</td>\n",
       "      <td>...</td>\n",
       "    </tr>\n",
       "    <tr>\n",
       "      <th>154112</th>\n",
       "      <td>Humanizing User Experience through AI - Whethe...</td>\n",
       "      <td>humanize user experience ready</td>\n",
       "    </tr>\n",
       "    <tr>\n",
       "      <th>154113</th>\n",
       "      <td>Machine Learning is all set to disrupt the mob...</td>\n",
       "      <td>machine learn set disrupt mobile app store val...</td>\n",
       "    </tr>\n",
       "    <tr>\n",
       "      <th>154114</th>\n",
       "      <td>Thought For Today : Artificial Intelligence (A...</td>\n",
       "      <td>think today artificial intelligence deep learn...</td>\n",
       "    </tr>\n",
       "    <tr>\n",
       "      <th>154115</th>\n",
       "      <td>Business Intelligence and Machine Learning: Da...</td>\n",
       "      <td>business intelligence machine learn data matte...</td>\n",
       "    </tr>\n",
       "    <tr>\n",
       "      <th>154116</th>\n",
       "      <td>Business Intelligence and Machine Learning: Da...</td>\n",
       "      <td>business intelligence machine learn data matte...</td>\n",
       "    </tr>\n",
       "  </tbody>\n",
       "</table>\n",
       "<p>154117 rows × 2 columns</p>\n",
       "</div>"
      ],
      "text/plain": [
       "                                                    tweet  \\\n",
       "0       Data as a new design material: ethical implica...   \n",
       "1       IT graduates, the monies are steeped on your s...   \n",
       "2       Third, the last principle of generosity experi...   \n",
       "3       @CubanBTC @Sim_Startup_ @cantrell •Computer vi...   \n",
       "4       Non-tech roles:  • Human Resources • Artificia...   \n",
       "...                                                   ...   \n",
       "154112  Humanizing User Experience through AI - Whethe...   \n",
       "154113  Machine Learning is all set to disrupt the mob...   \n",
       "154114  Thought For Today : Artificial Intelligence (A...   \n",
       "154115  Business Intelligence and Machine Learning: Da...   \n",
       "154116  Business Intelligence and Machine Learning: Da...   \n",
       "\n",
       "                                                   tokens  \n",
       "0       data new design material ethical implications ...  \n",
       "1       graduate monies steep global demand skills art...  \n",
       "2       principle generosity experience design tech ac...  \n",
       "3       vision engineer data engineer algorithm engine...  \n",
       "4       non tech roles human resources artificial inte...  \n",
       "...                                                   ...  \n",
       "154112                     humanize user experience ready  \n",
       "154113  machine learn set disrupt mobile app store val...  \n",
       "154114  think today artificial intelligence deep learn...  \n",
       "154115  business intelligence machine learn data matte...  \n",
       "154116  business intelligence machine learn data matte...  \n",
       "\n",
       "[154117 rows x 2 columns]"
      ]
     },
     "execution_count": 25,
     "metadata": {},
     "output_type": "execute_result"
    }
   ],
   "source": [
    "df1 = df[['tweet','tokens']]\n",
    "df1"
   ]
  },
  {
   "cell_type": "code",
   "execution_count": 37,
   "id": "c6f947f3",
   "metadata": {},
   "outputs": [
    {
     "data": {
      "image/png": "[encoded data removed]",
      "text/plain": [
       "<Figure size 432x288 with 1 Axes>"
      ]
     },
     "metadata": {
      "needs_background": "light"
     },
     "output_type": "display_data"
    }
   ],
   "source": [
    "import matplotlib.pyplot as plt\n",
    "%matplotlib inline\n",
    "from wordcloud import WordCloud\n",
    "#from nltk.corpus import stopwords\n",
    "#stopwords.update(['amp','work','learn','know']) #adding our own stopwords\n",
    "#customStopwords = set(STOPWORDS)\n",
    "#customStopwords=list('stopwords')+ ['amp','learn','know', 'new','better','help']\n",
    "customStopwords=list('stopwords')\n",
    "#Creating the text variable\n",
    "text = \" \".join(tokens for tokens in df.tokens)\n",
    "# Creating word_cloud with text as argument in .generate() method\n",
    "word_cloud2 = WordCloud(collocations = False, stopwords = customStopwords, background_color = 'black').generate(text)\n",
    "# Display the generated Word Cloud\n",
    "plt.imshow(word_cloud2, interpolation='bilinear')\n",
    "plt.axis(\"off\")\n",
    "plt.show()"
   ]
  },
  {
   "cell_type": "code",
   "execution_count": null,
   "id": "a1bb1aa1",
   "metadata": {},
   "outputs": [],
   "source": []
  },
  {
   "cell_type": "code",
   "execution_count": null,
   "id": "c73f3539",
   "metadata": {},
   "outputs": [],
   "source": []
  }
 ],
 "metadata": {
  "kernelspec": {
   "display_name": "Python 3",
   "language": "python",
   "name": "python3"
  },
  "language_info": {
   "codemirror_mode": {
    "name": "ipython",
    "version": 3
   },
   "file_extension": ".py",
   "mimetype": "text/x-python",
   "name": "python",
   "nbconvert_exporter": "python",
   "pygments_lexer": "ipython3",
   "version": "3.7.4"
  }
 },
 "nbformat": 4,
 "nbformat_minor": 5
}
