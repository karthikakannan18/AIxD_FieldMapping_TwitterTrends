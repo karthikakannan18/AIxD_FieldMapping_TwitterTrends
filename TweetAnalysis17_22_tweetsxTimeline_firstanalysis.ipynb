{
 "cells": [
  {
   "cell_type": "code",
   "execution_count": 19,
   "id": "e4ba0d3d",
   "metadata": {},
   "outputs": [
    {
     "data": {
      "text/html": [
       "<div>\n",
       "<style scoped>\n",
       "    .dataframe tbody tr th:only-of-type {\n",
       "        vertical-align: middle;\n",
       "    }\n",
       "\n",
       "    .dataframe tbody tr th {\n",
       "        vertical-align: top;\n",
       "    }\n",
       "\n",
       "    .dataframe thead th {\n",
       "        text-align: right;\n",
       "    }\n",
       "</style>\n",
       "<table border=\"1\" class=\"dataframe\">\n",
       "  <thead>\n",
       "    <tr style=\"text-align: right;\">\n",
       "      <th></th>\n",
       "      <th>Unnamed: 0</th>\n",
       "      <th>cashtags</th>\n",
       "      <th>conversation_id</th>\n",
       "      <th>created_at</th>\n",
       "      <th>date</th>\n",
       "      <th>day</th>\n",
       "      <th>geo</th>\n",
       "      <th>hashtags</th>\n",
       "      <th>hour</th>\n",
       "      <th>id</th>\n",
       "      <th>...</th>\n",
       "      <th>trans_src</th>\n",
       "      <th>translate</th>\n",
       "      <th>tweet</th>\n",
       "      <th>urls</th>\n",
       "      <th>user_id</th>\n",
       "      <th>user_id_str</th>\n",
       "      <th>user_rt</th>\n",
       "      <th>user_rt_id</th>\n",
       "      <th>username</th>\n",
       "      <th>video</th>\n",
       "    </tr>\n",
       "  </thead>\n",
       "  <tbody>\n",
       "    <tr>\n",
       "      <th>867257</th>\n",
       "      <td>867257</td>\n",
       "      <td>[]</td>\n",
       "      <td>1574988062589067264</td>\n",
       "      <td>1.664341e+12</td>\n",
       "      <td>2022-09-28 06:03:10</td>\n",
       "      <td>3</td>\n",
       "      <td>NaN</td>\n",
       "      <td>[]</td>\n",
       "      <td>6</td>\n",
       "      <td>1574988062589067264</td>\n",
       "      <td>...</td>\n",
       "      <td>NaN</td>\n",
       "      <td>NaN</td>\n",
       "      <td>...</td>\n",
       "      <td>[]</td>\n",
       "      <td>1411270185277923329</td>\n",
       "      <td>1411270185277923329</td>\n",
       "      <td>NaN</td>\n",
       "      <td>NaN</td>\n",
       "      <td>gestaltungai</td>\n",
       "      <td>0</td>\n",
       "    </tr>\n",
       "    <tr>\n",
       "      <th>867258</th>\n",
       "      <td>867258</td>\n",
       "      <td>[]</td>\n",
       "      <td>1574985948638507008</td>\n",
       "      <td>1.664341e+12</td>\n",
       "      <td>2022-09-28 05:54:46</td>\n",
       "      <td>3</td>\n",
       "      <td>NaN</td>\n",
       "      <td>[]</td>\n",
       "      <td>5</td>\n",
       "      <td>1574985948638507008</td>\n",
       "      <td>...</td>\n",
       "      <td>NaN</td>\n",
       "      <td>NaN</td>\n",
       "      <td>...</td>\n",
       "      <td>[]</td>\n",
       "      <td>1411270185277923329</td>\n",
       "      <td>1411270185277923329</td>\n",
       "      <td>NaN</td>\n",
       "      <td>NaN</td>\n",
       "      <td>gestaltungai</td>\n",
       "      <td>0</td>\n",
       "    </tr>\n",
       "    <tr>\n",
       "      <th>867259</th>\n",
       "      <td>867259</td>\n",
       "      <td>[]</td>\n",
       "      <td>1574439845648371712</td>\n",
       "      <td>1.664211e+12</td>\n",
       "      <td>2022-09-26 17:44:45</td>\n",
       "      <td>1</td>\n",
       "      <td>NaN</td>\n",
       "      <td>[]</td>\n",
       "      <td>17</td>\n",
       "      <td>1574439845648371712</td>\n",
       "      <td>...</td>\n",
       "      <td>NaN</td>\n",
       "      <td>NaN</td>\n",
       "      <td>...</td>\n",
       "      <td>[]</td>\n",
       "      <td>1411270185277923329</td>\n",
       "      <td>1411270185277923329</td>\n",
       "      <td>NaN</td>\n",
       "      <td>NaN</td>\n",
       "      <td>gestaltungai</td>\n",
       "      <td>0</td>\n",
       "    </tr>\n",
       "    <tr>\n",
       "      <th>867260</th>\n",
       "      <td>867260</td>\n",
       "      <td>[]</td>\n",
       "      <td>1572107348440752129</td>\n",
       "      <td>1.663655e+12</td>\n",
       "      <td>2022-09-20 07:16:14</td>\n",
       "      <td>2</td>\n",
       "      <td>NaN</td>\n",
       "      <td>[]</td>\n",
       "      <td>7</td>\n",
       "      <td>1572107348440752129</td>\n",
       "      <td>...</td>\n",
       "      <td>NaN</td>\n",
       "      <td>NaN</td>\n",
       "      <td>...</td>\n",
       "      <td>[]</td>\n",
       "      <td>1411270185277923329</td>\n",
       "      <td>1411270185277923329</td>\n",
       "      <td>NaN</td>\n",
       "      <td>NaN</td>\n",
       "      <td>gestaltungai</td>\n",
       "      <td>0</td>\n",
       "    </tr>\n",
       "    <tr>\n",
       "      <th>867261</th>\n",
       "      <td>867261</td>\n",
       "      <td>[]</td>\n",
       "      <td>1571933728452280322</td>\n",
       "      <td>1.663613e+12</td>\n",
       "      <td>2022-09-19 19:46:20</td>\n",
       "      <td>1</td>\n",
       "      <td>NaN</td>\n",
       "      <td>[]</td>\n",
       "      <td>19</td>\n",
       "      <td>1571933728452280322</td>\n",
       "      <td>...</td>\n",
       "      <td>NaN</td>\n",
       "      <td>NaN</td>\n",
       "      <td>...</td>\n",
       "      <td>[]</td>\n",
       "      <td>1411270185277923329</td>\n",
       "      <td>1411270185277923329</td>\n",
       "      <td>NaN</td>\n",
       "      <td>NaN</td>\n",
       "      <td>gestaltungai</td>\n",
       "      <td>0</td>\n",
       "    </tr>\n",
       "  </tbody>\n",
       "</table>\n",
       "<p>5 rows × 39 columns</p>\n",
       "</div>"
      ],
      "text/plain": [
       "        Unnamed: 0 cashtags      conversation_id    created_at  \\\n",
       "867257      867257       []  1574988062589067264  1.664341e+12   \n",
       "867258      867258       []  1574985948638507008  1.664341e+12   \n",
       "867259      867259       []  1574439845648371712  1.664211e+12   \n",
       "867260      867260       []  1572107348440752129  1.663655e+12   \n",
       "867261      867261       []  1571933728452280322  1.663613e+12   \n",
       "\n",
       "                       date  day  geo hashtags  hour                   id  \\\n",
       "867257  2022-09-28 06:03:10    3  NaN       []     6  1574988062589067264   \n",
       "867258  2022-09-28 05:54:46    3  NaN       []     5  1574985948638507008   \n",
       "867259  2022-09-26 17:44:45    1  NaN       []    17  1574439845648371712   \n",
       "867260  2022-09-20 07:16:14    2  NaN       []     7  1572107348440752129   \n",
       "867261  2022-09-19 19:46:20    1  NaN       []    19  1571933728452280322   \n",
       "\n",
       "        ... trans_src translate tweet  urls              user_id  \\\n",
       "867257  ...       NaN       NaN   ...    []  1411270185277923329   \n",
       "867258  ...       NaN       NaN   ...    []  1411270185277923329   \n",
       "867259  ...       NaN       NaN   ...    []  1411270185277923329   \n",
       "867260  ...       NaN       NaN   ...    []  1411270185277923329   \n",
       "867261  ...       NaN       NaN   ...    []  1411270185277923329   \n",
       "\n",
       "                user_id_str  user_rt user_rt_id      username video  \n",
       "867257  1411270185277923329      NaN        NaN  gestaltungai     0  \n",
       "867258  1411270185277923329      NaN        NaN  gestaltungai     0  \n",
       "867259  1411270185277923329      NaN        NaN  gestaltungai     0  \n",
       "867260  1411270185277923329      NaN        NaN  gestaltungai     0  \n",
       "867261  1411270185277923329      NaN        NaN  gestaltungai     0  \n",
       "\n",
       "[5 rows x 39 columns]"
      ]
     },
     "execution_count": 19,
     "metadata": {},
     "output_type": "execute_result"
    }
   ],
   "source": [
    "import pandas as pd\n",
    "df = pd.read_csv('mergeddataset17-22.csv')\n",
    "df.tail(5)"
   ]
  },
  {
   "cell_type": "code",
   "execution_count": 20,
   "id": "04f26ce4",
   "metadata": {},
   "outputs": [
    {
     "data": {
      "text/plain": [
       "(867262, 39)"
      ]
     },
     "execution_count": 20,
     "metadata": {},
     "output_type": "execute_result"
    }
   ],
   "source": [
    "df.shape"
   ]
  },
  {
   "cell_type": "code",
   "execution_count": 21,
   "id": "d6e94587",
   "metadata": {},
   "outputs": [
    {
     "data": {
      "text/plain": [
       "Unnamed: 0         867262\n",
       "cashtags           867262\n",
       "conversation_id    867262\n",
       "created_at         867262\n",
       "date               867262\n",
       "day                867262\n",
       "geo                     0\n",
       "hashtags           867262\n",
       "hour               867262\n",
       "id                 867262\n",
       "language           867262\n",
       "link               867262\n",
       "name               867262\n",
       "near                    0\n",
       "nlikes             867262\n",
       "nreplies           867262\n",
       "nretweets          867262\n",
       "photos             867262\n",
       "place                   0\n",
       "quote_url          155585\n",
       "reply_to           867262\n",
       "retweet            867262\n",
       "retweet_date            0\n",
       "retweet_id              0\n",
       "search             867262\n",
       "source                  0\n",
       "thumbnail          196356\n",
       "timezone           867262\n",
       "trans_dest              0\n",
       "trans_src               0\n",
       "translate               0\n",
       "tweet              867262\n",
       "urls               867262\n",
       "user_id            867262\n",
       "user_id_str        867262\n",
       "user_rt                 0\n",
       "user_rt_id              0\n",
       "username           867262\n",
       "video              867262\n",
       "dtype: int64"
      ]
     },
     "execution_count": 21,
     "metadata": {},
     "output_type": "execute_result"
    }
   ],
   "source": [
    "df.count()"
   ]
  },
  {
   "cell_type": "code",
   "execution_count": 22,
   "id": "fa42d808",
   "metadata": {},
   "outputs": [
    {
     "data": {
      "text/plain": [
       "array([  394,   152,  2286,   173,   158,   145,    59,    85,   109,\n",
       "         148,   638,   331,   269,  2198,   205,   100,    90,    95,\n",
       "         101,   137,    79,   486,   154,   215,   432,   267,   207,\n",
       "         418,   169,   296,   999,   226,  1160,   542,    87,   136,\n",
       "         175,    91,   266,   146, 10519,   289,   254,    76,   108,\n",
       "          52,    78,  1947,   385,   412,   793,  3414,   657,   884,\n",
       "         528,  5674,   379,  1083,     3,     2,     5,    10,    34,\n",
       "          28,    14,    22,     6,     7,     1,    80,    24,     4,\n",
       "          11,     0,    16,    89,    65,    64,   185,    25,    29,\n",
       "           8,    21,   177,   892,    18,    41,    15,    20,    23,\n",
       "           9,    82,    26,    35,    97,    49,    13,   123,   105,\n",
       "          12,    31,    17,    62,    40,    48,    19,    32,    72,\n",
       "          30,   176,   132,   102,    36,    58,    37,    38,   203,\n",
       "        2060,   438,  1096,   544,   637,   174,   408,   172,   442,\n",
       "         303,   157,  1250,    68,   200,   466,    53,    74,   499,\n",
       "         194,   223,    33,   120,    50,   241,   237,   121,   138,\n",
       "         743,   239,   445,   384,  2283,    51,    56,  1435,   183,\n",
       "         302,   474,   417,   458,   277,   264,   535,    42,   103,\n",
       "          61,   846,   117,    88,   230,   505,   367,   589,   333,\n",
       "         436,   860,    96,   164,   229,   317,   587,   259,  1322,\n",
       "         188,   802,   671,   409,   276,    27,    55,   541,   262,\n",
       "        1465,   320,   520,   232,   767,   360,   770,   261,   119,\n",
       "        1275,   305,   751,   316,   476,    43,  2061,   380,   125,\n",
       "         162,   575,   224,    69,   411,   310,   339,   118,   649,\n",
       "         304,   192,   549,   434,   400,   281,   160,   805,   182,\n",
       "         563,    83,   341,   615,   346,   430,   350,   268,   562,\n",
       "         336,   460,   248,   429,   260,   778,   163,   500,    45,\n",
       "          57,  1452], dtype=int64)"
      ]
     },
     "execution_count": 22,
     "metadata": {},
     "output_type": "execute_result"
    }
   ],
   "source": [
    "df['nlikes'].unique()"
   ]
  },
  {
   "cell_type": "code",
   "execution_count": 23,
   "id": "3dc4caac",
   "metadata": {},
   "outputs": [
    {
     "data": {
      "text/plain": [
       "array([  96,   29,  526,   45,   21,   34,   13,   19,   24,   36,  156,\n",
       "         97,   70,  508,   52,   30,   31,   27,   43,   23,  120,   56,\n",
       "         61,  132,   48,   64,  127,   42,   82,  210,   50,  255,  161,\n",
       "         32,   68,   46, 2419,   71,   15,   17,    6,   20,    9,  426,\n",
       "        123,  103,  229,  636,  150,  174,  136, 1241,  113,  263,    0,\n",
       "          4,    2,    1,    7,   16,  155,    3,    5,   11,   25,   14,\n",
       "         22,   10,   65,    8,   67,  466,  126,  264,  138,   44,   77,\n",
       "        117,  239,   12,  110,   37,   69,   60,   26,  178,  124,   47,\n",
       "         91,  131,  106,  219,  162,  169,  100,   58,  199,   28,  388,\n",
       "         18,   59,  186,   74,  128,  152,  350,   92,  237,  111,  592,\n",
       "        400,  175,  302,  153,  102,  352,  112,  149,   49,  158,  209,\n",
       "         88,  316,   73,   55,   39,   98,   53,   78,   95,  179,   62,\n",
       "        146,  125,   99,   66,  194,  159,  168,   75,  166,  115,   90,\n",
       "        129,  195,  212], dtype=int64)"
      ]
     },
     "execution_count": 23,
     "metadata": {},
     "output_type": "execute_result"
    }
   ],
   "source": [
    "df['nretweets'].unique()"
   ]
  },
  {
   "cell_type": "code",
   "execution_count": 24,
   "id": "16036ebe",
   "metadata": {},
   "outputs": [
    {
     "data": {
      "text/plain": [
       "Index(['Unnamed: 0', 'cashtags', 'conversation_id', 'created_at', 'date',\n",
       "       'day', 'hashtags', 'hour', 'id', 'language', 'link', 'name', 'nlikes',\n",
       "       'nreplies', 'nretweets', 'photos', 'reply_to', 'retweet', 'search',\n",
       "       'timezone', 'tweet', 'urls', 'user_id', 'user_id_str', 'username',\n",
       "       'video'],\n",
       "      dtype='object')"
      ]
     },
     "execution_count": 24,
     "metadata": {},
     "output_type": "execute_result"
    }
   ],
   "source": [
    "df.dropna(axis='columns', inplace=True)\n",
    "df.columns"
   ]
  },
  {
   "cell_type": "code",
   "execution_count": 25,
   "id": "23c9bd76",
   "metadata": {},
   "outputs": [],
   "source": [
    "df = df[['date', 'timezone', 'tweet', 'hashtags', 'username', 'name', 'day', 'hour', 'retweet', 'nlikes', 'nreplies', 'nretweets']]"
   ]
  },
  {
   "cell_type": "code",
   "execution_count": 26,
   "id": "fb4e1624",
   "metadata": {},
   "outputs": [],
   "source": [
    "import numpy as np\n",
    "import pandas as pd\n",
    "from pandas import DataFrame\n",
    "from pandas import Series"
   ]
  },
  {
   "cell_type": "code",
   "execution_count": 27,
   "id": "3962596b",
   "metadata": {},
   "outputs": [],
   "source": [
    "import matplotlib\n",
    "import matplotlib.pyplot as plt\n",
    "from pylab import*\n",
    "%matplotlib inline  \n",
    "import seaborn as sns"
   ]
  },
  {
   "cell_type": "code",
   "execution_count": 28,
   "id": "e9a4fa7f",
   "metadata": {},
   "outputs": [],
   "source": [
    "import seaborn as sns"
   ]
  },
  {
   "cell_type": "code",
   "execution_count": 29,
   "id": "091e1ac3",
   "metadata": {},
   "outputs": [
    {
     "data": {
      "text/plain": [
       "['Solarize_Light2',\n",
       " '_classic_test_patch',\n",
       " 'bmh',\n",
       " 'classic',\n",
       " 'dark_background',\n",
       " 'fast',\n",
       " 'fivethirtyeight',\n",
       " 'ggplot',\n",
       " 'grayscale',\n",
       " 'seaborn',\n",
       " 'seaborn-bright',\n",
       " 'seaborn-colorblind',\n",
       " 'seaborn-dark',\n",
       " 'seaborn-dark-palette',\n",
       " 'seaborn-darkgrid',\n",
       " 'seaborn-deep',\n",
       " 'seaborn-muted',\n",
       " 'seaborn-notebook',\n",
       " 'seaborn-paper',\n",
       " 'seaborn-pastel',\n",
       " 'seaborn-poster',\n",
       " 'seaborn-talk',\n",
       " 'seaborn-ticks',\n",
       " 'seaborn-white',\n",
       " 'seaborn-whitegrid',\n",
       " 'tableau-colorblind10']"
      ]
     },
     "execution_count": 29,
     "metadata": {},
     "output_type": "execute_result"
    }
   ],
   "source": [
    "import matplotlib as mpl\n",
    "mpl.style.available"
   ]
  },
  {
   "cell_type": "code",
   "execution_count": 30,
   "id": "2028d624",
   "metadata": {},
   "outputs": [
    {
     "data": {
      "text/plain": [
       "date         object\n",
       "timezone      int64\n",
       "tweet        object\n",
       "hashtags     object\n",
       "username     object\n",
       "name         object\n",
       "day           int64\n",
       "hour          int64\n",
       "retweet        bool\n",
       "nlikes        int64\n",
       "nreplies      int64\n",
       "nretweets     int64\n",
       "dtype: object"
      ]
     },
     "execution_count": 30,
     "metadata": {},
     "output_type": "execute_result"
    }
   ],
   "source": [
    "df.dtypes"
   ]
  },
  {
   "cell_type": "code",
   "execution_count": 31,
   "id": "cc864c58",
   "metadata": {},
   "outputs": [],
   "source": [
    "df['date'] = pd.to_datetime(df['date'])"
   ]
  },
  {
   "cell_type": "code",
   "execution_count": 32,
   "id": "0f89d2a3",
   "metadata": {},
   "outputs": [
    {
     "data": {
      "text/plain": [
       "date         datetime64[ns]\n",
       "timezone              int64\n",
       "tweet                object\n",
       "hashtags             object\n",
       "username             object\n",
       "name                 object\n",
       "day                   int64\n",
       "hour                  int64\n",
       "retweet                bool\n",
       "nlikes                int64\n",
       "nreplies              int64\n",
       "nretweets             int64\n",
       "dtype: object"
      ]
     },
     "execution_count": 32,
     "metadata": {},
     "output_type": "execute_result"
    }
   ],
   "source": [
    "df.dtypes"
   ]
  },
  {
   "cell_type": "code",
   "execution_count": 15,
   "id": "792c95c4",
   "metadata": {},
   "outputs": [
    {
     "data": {
      "image/png": "[encoded data removed]",
      "text/plain": [
       "<Figure size 1152x576 with 1 Axes>"
      ]
     },
     "metadata": {
      "needs_background": "light"
     },
     "output_type": "display_data"
    }
   ],
   "source": [
    "import pandas as pd\n",
    "import matplotlib.pyplot as plt\n",
    "\n",
    "# convert datetime to date and add year column\n",
    "df['date'] = pd.to_datetime(df['date'],errors='coerce')\n",
    "df['year'] = df['date'].dt.year\n",
    "df['date'] = df['date'].dt.date\n",
    "# plot tweet daily counts over time\n",
    "df.groupby('date')['tweet'].count().plot(kind='line', color='pink', figsize=(16,8))\n",
    "plt.xlabel('Year')\n",
    "plt.ylabel('Daily Tweets')\n",
    "plt.show()"
   ]
  },
  {
   "cell_type": "code",
   "execution_count": 33,
   "id": "229d275e",
   "metadata": {},
   "outputs": [
    {
     "data": {
      "text/html": [
       "<div>\n",
       "<style scoped>\n",
       "    .dataframe tbody tr th:only-of-type {\n",
       "        vertical-align: middle;\n",
       "    }\n",
       "\n",
       "    .dataframe tbody tr th {\n",
       "        vertical-align: top;\n",
       "    }\n",
       "\n",
       "    .dataframe thead th {\n",
       "        text-align: right;\n",
       "    }\n",
       "</style>\n",
       "<table border=\"1\" class=\"dataframe\">\n",
       "  <thead>\n",
       "    <tr style=\"text-align: right;\">\n",
       "      <th></th>\n",
       "      <th>timezone</th>\n",
       "      <th>tweet</th>\n",
       "      <th>hashtags</th>\n",
       "      <th>username</th>\n",
       "      <th>name</th>\n",
       "      <th>day</th>\n",
       "      <th>hour</th>\n",
       "      <th>retweet</th>\n",
       "      <th>nlikes</th>\n",
       "      <th>nreplies</th>\n",
       "      <th>nretweets</th>\n",
       "    </tr>\n",
       "    <tr>\n",
       "      <th>date</th>\n",
       "      <th></th>\n",
       "      <th></th>\n",
       "      <th></th>\n",
       "      <th></th>\n",
       "      <th></th>\n",
       "      <th></th>\n",
       "      <th></th>\n",
       "      <th></th>\n",
       "      <th></th>\n",
       "      <th></th>\n",
       "      <th></th>\n",
       "    </tr>\n",
       "  </thead>\n",
       "  <tbody>\n",
       "    <tr>\n",
       "      <th>2022-09-27 18:44:21</th>\n",
       "      <td>0</td>\n",
       "      <td>Introducing ActorQ, a novel paradigm that uses...</td>\n",
       "      <td>['reinforcementlearning']</td>\n",
       "      <td>GoogleAI</td>\n",
       "      <td>Google AI</td>\n",
       "      <td>2</td>\n",
       "      <td>18</td>\n",
       "      <td>False</td>\n",
       "      <td>394</td>\n",
       "      <td>23</td>\n",
       "      <td>96</td>\n",
       "    </tr>\n",
       "    <tr>\n",
       "      <th>2022-09-23 21:48:28</th>\n",
       "      <td>0</td>\n",
       "      <td>Check out the latest updates to Acme, a framew...</td>\n",
       "      <td>[]</td>\n",
       "      <td>GoogleAI</td>\n",
       "      <td>Google AI</td>\n",
       "      <td>5</td>\n",
       "      <td>21</td>\n",
       "      <td>False</td>\n",
       "      <td>152</td>\n",
       "      <td>9</td>\n",
       "      <td>29</td>\n",
       "    </tr>\n",
       "    <tr>\n",
       "      <th>2022-09-22 22:40:14</th>\n",
       "      <td>0</td>\n",
       "      <td>Introducing TensorStore, an open-source C++ an...</td>\n",
       "      <td>[]</td>\n",
       "      <td>GoogleAI</td>\n",
       "      <td>Google AI</td>\n",
       "      <td>4</td>\n",
       "      <td>22</td>\n",
       "      <td>False</td>\n",
       "      <td>2286</td>\n",
       "      <td>40</td>\n",
       "      <td>526</td>\n",
       "    </tr>\n",
       "    <tr>\n",
       "      <th>2022-09-21 22:58:41</th>\n",
       "      <td>0</td>\n",
       "      <td>View synthesis — creating new views of a scene...</td>\n",
       "      <td>[]</td>\n",
       "      <td>GoogleAI</td>\n",
       "      <td>Google AI</td>\n",
       "      <td>3</td>\n",
       "      <td>22</td>\n",
       "      <td>False</td>\n",
       "      <td>173</td>\n",
       "      <td>5</td>\n",
       "      <td>45</td>\n",
       "    </tr>\n",
       "    <tr>\n",
       "      <th>2022-09-21 03:30:00</th>\n",
       "      <td>0</td>\n",
       "      <td>Vetting speech models requires consideration o...</td>\n",
       "      <td>['interspeech2022']</td>\n",
       "      <td>GoogleAI</td>\n",
       "      <td>Google AI</td>\n",
       "      <td>3</td>\n",
       "      <td>3</td>\n",
       "      <td>False</td>\n",
       "      <td>158</td>\n",
       "      <td>9</td>\n",
       "      <td>21</td>\n",
       "    </tr>\n",
       "  </tbody>\n",
       "</table>\n",
       "</div>"
      ],
      "text/plain": [
       "                     timezone  \\\n",
       "date                            \n",
       "2022-09-27 18:44:21         0   \n",
       "2022-09-23 21:48:28         0   \n",
       "2022-09-22 22:40:14         0   \n",
       "2022-09-21 22:58:41         0   \n",
       "2022-09-21 03:30:00         0   \n",
       "\n",
       "                                                                 tweet  \\\n",
       "date                                                                     \n",
       "2022-09-27 18:44:21  Introducing ActorQ, a novel paradigm that uses...   \n",
       "2022-09-23 21:48:28  Check out the latest updates to Acme, a framew...   \n",
       "2022-09-22 22:40:14  Introducing TensorStore, an open-source C++ an...   \n",
       "2022-09-21 22:58:41  View synthesis — creating new views of a scene...   \n",
       "2022-09-21 03:30:00  Vetting speech models requires consideration o...   \n",
       "\n",
       "                                      hashtags  username       name  day  \\\n",
       "date                                                                       \n",
       "2022-09-27 18:44:21  ['reinforcementlearning']  GoogleAI  Google AI    2   \n",
       "2022-09-23 21:48:28                         []  GoogleAI  Google AI    5   \n",
       "2022-09-22 22:40:14                         []  GoogleAI  Google AI    4   \n",
       "2022-09-21 22:58:41                         []  GoogleAI  Google AI    3   \n",
       "2022-09-21 03:30:00        ['interspeech2022']  GoogleAI  Google AI    3   \n",
       "\n",
       "                     hour  retweet  nlikes  nreplies  nretweets  \n",
       "date                                                             \n",
       "2022-09-27 18:44:21    18    False     394        23         96  \n",
       "2022-09-23 21:48:28    21    False     152         9         29  \n",
       "2022-09-22 22:40:14    22    False    2286        40        526  \n",
       "2022-09-21 22:58:41    22    False     173         5         45  \n",
       "2022-09-21 03:30:00     3    False     158         9         21  "
      ]
     },
     "execution_count": 33,
     "metadata": {},
     "output_type": "execute_result"
    }
   ],
   "source": [
    "df = df.set_index(['date'])\n",
    "df.head(5)"
   ]
  },
  {
   "cell_type": "code",
   "execution_count": 34,
   "id": "66e941c7",
   "metadata": {},
   "outputs": [],
   "source": [
    "def f(x): return Series(dict(Number_of_tweets = x['tweet'].count(), ))"
   ]
  },
  {
   "cell_type": "code",
   "execution_count": 35,
   "id": "378740e2",
   "metadata": {},
   "outputs": [
    {
     "data": {
      "text/html": [
       "<div>\n",
       "<style scoped>\n",
       "    .dataframe tbody tr th:only-of-type {\n",
       "        vertical-align: middle;\n",
       "    }\n",
       "\n",
       "    .dataframe tbody tr th {\n",
       "        vertical-align: top;\n",
       "    }\n",
       "\n",
       "    .dataframe thead th {\n",
       "        text-align: right;\n",
       "    }\n",
       "</style>\n",
       "<table border=\"1\" class=\"dataframe\">\n",
       "  <thead>\n",
       "    <tr style=\"text-align: right;\">\n",
       "      <th></th>\n",
       "      <th>Number_of_tweets</th>\n",
       "    </tr>\n",
       "  </thead>\n",
       "  <tbody>\n",
       "    <tr>\n",
       "      <th>2022-10-28</th>\n",
       "      <td>1632</td>\n",
       "    </tr>\n",
       "    <tr>\n",
       "      <th>2022-10-29</th>\n",
       "      <td>846</td>\n",
       "    </tr>\n",
       "    <tr>\n",
       "      <th>2022-10-30</th>\n",
       "      <td>522</td>\n",
       "    </tr>\n",
       "    <tr>\n",
       "      <th>2022-10-31</th>\n",
       "      <td>3570</td>\n",
       "    </tr>\n",
       "    <tr>\n",
       "      <th>2022-11-01</th>\n",
       "      <td>1302</td>\n",
       "    </tr>\n",
       "  </tbody>\n",
       "</table>\n",
       "</div>"
      ],
      "text/plain": [
       "            Number_of_tweets\n",
       "2022-10-28              1632\n",
       "2022-10-29               846\n",
       "2022-10-30               522\n",
       "2022-10-31              3570\n",
       "2022-11-01              1302"
      ]
     },
     "execution_count": 35,
     "metadata": {},
     "output_type": "execute_result"
    }
   ],
   "source": [
    "#Daily Count\n",
    "daily_count = df.groupby(df.index.date).apply(f)\n",
    "daily_count.tail(5)"
   ]
  },
  {
   "cell_type": "code",
   "execution_count": 36,
   "id": "5055f157",
   "metadata": {},
   "outputs": [
    {
     "data": {
      "text/html": [
       "<div>\n",
       "<style scoped>\n",
       "    .dataframe tbody tr th:only-of-type {\n",
       "        vertical-align: middle;\n",
       "    }\n",
       "\n",
       "    .dataframe tbody tr th {\n",
       "        vertical-align: top;\n",
       "    }\n",
       "\n",
       "    .dataframe thead th {\n",
       "        text-align: right;\n",
       "    }\n",
       "</style>\n",
       "<table border=\"1\" class=\"dataframe\">\n",
       "  <thead>\n",
       "    <tr style=\"text-align: right;\">\n",
       "      <th></th>\n",
       "      <th>Number_of_tweets</th>\n",
       "    </tr>\n",
       "    <tr>\n",
       "      <th>date</th>\n",
       "      <th></th>\n",
       "    </tr>\n",
       "  </thead>\n",
       "  <tbody>\n",
       "    <tr>\n",
       "      <th>2017-01-26</th>\n",
       "      <td>575</td>\n",
       "    </tr>\n",
       "    <tr>\n",
       "      <th>2017-01-28</th>\n",
       "      <td>575</td>\n",
       "    </tr>\n",
       "    <tr>\n",
       "      <th>2017-02-14</th>\n",
       "      <td>575</td>\n",
       "    </tr>\n",
       "    <tr>\n",
       "      <th>2017-03-31</th>\n",
       "      <td>575</td>\n",
       "    </tr>\n",
       "    <tr>\n",
       "      <th>2017-04-11</th>\n",
       "      <td>575</td>\n",
       "    </tr>\n",
       "  </tbody>\n",
       "</table>\n",
       "</div>"
      ],
      "text/plain": [
       "            Number_of_tweets\n",
       "date                        \n",
       "2017-01-26               575\n",
       "2017-01-28               575\n",
       "2017-02-14               575\n",
       "2017-03-31               575\n",
       "2017-04-11               575"
      ]
     },
     "execution_count": 36,
     "metadata": {},
     "output_type": "execute_result"
    }
   ],
   "source": [
    "daily_count.index.name = 'date'\n",
    "daily_count.head(5)"
   ]
  },
  {
   "cell_type": "code",
   "execution_count": 37,
   "id": "972c319a",
   "metadata": {},
   "outputs": [
    {
     "data": {
      "text/html": [
       "<div>\n",
       "<style scoped>\n",
       "    .dataframe tbody tr th:only-of-type {\n",
       "        vertical-align: middle;\n",
       "    }\n",
       "\n",
       "    .dataframe tbody tr th {\n",
       "        vertical-align: top;\n",
       "    }\n",
       "\n",
       "    .dataframe thead th {\n",
       "        text-align: right;\n",
       "    }\n",
       "</style>\n",
       "<table border=\"1\" class=\"dataframe\">\n",
       "  <thead>\n",
       "    <tr style=\"text-align: right;\">\n",
       "      <th></th>\n",
       "      <th>Number_of_tweets</th>\n",
       "    </tr>\n",
       "    <tr>\n",
       "      <th>date</th>\n",
       "      <th></th>\n",
       "    </tr>\n",
       "  </thead>\n",
       "  <tbody>\n",
       "    <tr>\n",
       "      <th>2022-10-28</th>\n",
       "      <td>1632</td>\n",
       "    </tr>\n",
       "    <tr>\n",
       "      <th>2022-10-29</th>\n",
       "      <td>846</td>\n",
       "    </tr>\n",
       "    <tr>\n",
       "      <th>2022-10-30</th>\n",
       "      <td>522</td>\n",
       "    </tr>\n",
       "    <tr>\n",
       "      <th>2022-10-31</th>\n",
       "      <td>3570</td>\n",
       "    </tr>\n",
       "    <tr>\n",
       "      <th>2022-11-01</th>\n",
       "      <td>1302</td>\n",
       "    </tr>\n",
       "  </tbody>\n",
       "</table>\n",
       "</div>"
      ],
      "text/plain": [
       "            Number_of_tweets\n",
       "date                        \n",
       "2022-10-28              1632\n",
       "2022-10-29               846\n",
       "2022-10-30               522\n",
       "2022-10-31              3570\n",
       "2022-11-01              1302"
      ]
     },
     "execution_count": 37,
     "metadata": {},
     "output_type": "execute_result"
    }
   ],
   "source": [
    "daily_count.tail(5)"
   ]
  },
  {
   "cell_type": "code",
   "execution_count": 38,
   "id": "c2b25f06",
   "metadata": {},
   "outputs": [
    {
     "data": {
      "text/plain": [
       "datetime.date(2017, 1, 26)"
      ]
     },
     "execution_count": 38,
     "metadata": {},
     "output_type": "execute_result"
    }
   ],
   "source": [
    "daily_count.index.min()"
   ]
  },
  {
   "cell_type": "code",
   "execution_count": 39,
   "id": "fc236247",
   "metadata": {},
   "outputs": [
    {
     "data": {
      "text/plain": [
       "datetime.date(2022, 11, 1)"
      ]
     },
     "execution_count": 39,
     "metadata": {},
     "output_type": "execute_result"
    }
   ],
   "source": [
    "daily_count.index.max()"
   ]
  },
  {
   "cell_type": "code",
   "execution_count": 40,
   "id": "40587f7e",
   "metadata": {},
   "outputs": [
    {
     "data": {
      "image/png": "[encoded data removed]",
      "text/plain": [
       "<Figure size 432x288 with 1 Axes>"
      ]
     },
     "metadata": {
      "needs_background": "light"
     },
     "output_type": "display_data"
    }
   ],
   "source": [
    "#Daily Count \n",
    "daily_plot = daily_count['Number_of_tweets'].plot(kind='line', lw=1, alpha=0.75, legend=True, x_compat=True)\n",
    "\n",
    "daily_plot.set_xlabel('Year', weight='bold', labelpad=15)    #SET X-AXIS LABEL; ADD PADDING TO TOP OF LABEL\n",
    "daily_plot.set_ylabel('No.of Tweets(Messages)', weight='bold', labelpad=15) #SET Y-AXIS LABEL; ADD PADDING TO RIGHT OF LABEL\n",
    "\n",
    "xticks(fontsize = 9, rotation = -30, ha =\"left\")  #SET FONT PROPERTIES OF X-AXIS TICK LABELS\n",
    "yticks(fontsize = 9)                              #SET FONT PROPERTIES OF Y-AXIS TICK LABELS\n",
    "\n",
    "#http://matplotlib.org/users/legend_guide.html\n",
    "#http://nbviewer.ipython.org/gist/olgabot/5357268  ### LIST OF OPTIONS\n",
    "#legend(fontsize='x-small',loc=2,labelspacing=0.1, frameon=False)#.draggable()\n",
    "daily_plot.legend_ = None\n",
    "daily_plot.tick_params(axis='x', pad=5) #SET PADDING ABOVE X-AXIS LABELS\n",
    "#Set x axis label on top of plot, set label text --> https://datasciencelab.wordpress.com/2013/12/21/beautiful-plots-with-pandas-and-matplotlib/\n",
    "#daily_plot.xaxis.set_label_position('top')\n",
    "\n",
    "savefig('year_tweets17-22.png', bbox_inches='tight', dpi=300, format='png')"
   ]
  },
  {
   "cell_type": "code",
   "execution_count": 41,
   "id": "386d41fe",
   "metadata": {},
   "outputs": [],
   "source": [
    "daily_count.to_csv('Number of Tweets per Day1.csv')"
   ]
  },
  {
   "cell_type": "code",
   "execution_count": 42,
   "id": "7de452a6",
   "metadata": {},
   "outputs": [
    {
     "data": {
      "text/html": [
       "<div>\n",
       "<style scoped>\n",
       "    .dataframe tbody tr th:only-of-type {\n",
       "        vertical-align: middle;\n",
       "    }\n",
       "\n",
       "    .dataframe tbody tr th {\n",
       "        vertical-align: top;\n",
       "    }\n",
       "\n",
       "    .dataframe thead th {\n",
       "        text-align: right;\n",
       "    }\n",
       "</style>\n",
       "<table border=\"1\" class=\"dataframe\">\n",
       "  <thead>\n",
       "    <tr style=\"text-align: right;\">\n",
       "      <th></th>\n",
       "      <th>Number_of_tweets</th>\n",
       "    </tr>\n",
       "    <tr>\n",
       "      <th>date</th>\n",
       "      <th></th>\n",
       "    </tr>\n",
       "  </thead>\n",
       "  <tbody>\n",
       "    <tr>\n",
       "      <th>0</th>\n",
       "      <td>143138</td>\n",
       "    </tr>\n",
       "    <tr>\n",
       "      <th>1</th>\n",
       "      <td>157436</td>\n",
       "    </tr>\n",
       "    <tr>\n",
       "      <th>2</th>\n",
       "      <td>161047</td>\n",
       "    </tr>\n",
       "    <tr>\n",
       "      <th>3</th>\n",
       "      <td>161316</td>\n",
       "    </tr>\n",
       "    <tr>\n",
       "      <th>4</th>\n",
       "      <td>151590</td>\n",
       "    </tr>\n",
       "    <tr>\n",
       "      <th>5</th>\n",
       "      <td>46190</td>\n",
       "    </tr>\n",
       "    <tr>\n",
       "      <th>6</th>\n",
       "      <td>46545</td>\n",
       "    </tr>\n",
       "  </tbody>\n",
       "</table>\n",
       "</div>"
      ],
      "text/plain": [
       "      Number_of_tweets\n",
       "date                  \n",
       "0               143138\n",
       "1               157436\n",
       "2               161047\n",
       "3               161316\n",
       "4               151590\n",
       "5                46190\n",
       "6                46545"
      ]
     },
     "execution_count": 42,
     "metadata": {},
     "output_type": "execute_result"
    }
   ],
   "source": [
    "weekday_count = df.groupby(df.index.weekday).apply(f)\n",
    "len(weekday_count)\n",
    "weekday_count"
   ]
  },
  {
   "cell_type": "code",
   "execution_count": 43,
   "id": "798183ca",
   "metadata": {},
   "outputs": [
    {
     "data": {
      "text/html": [
       "<div>\n",
       "<style scoped>\n",
       "    .dataframe tbody tr th:only-of-type {\n",
       "        vertical-align: middle;\n",
       "    }\n",
       "\n",
       "    .dataframe tbody tr th {\n",
       "        vertical-align: top;\n",
       "    }\n",
       "\n",
       "    .dataframe thead th {\n",
       "        text-align: right;\n",
       "    }\n",
       "</style>\n",
       "<table border=\"1\" class=\"dataframe\">\n",
       "  <thead>\n",
       "    <tr style=\"text-align: right;\">\n",
       "      <th></th>\n",
       "      <th>Number_of_tweets</th>\n",
       "      <th>day</th>\n",
       "    </tr>\n",
       "    <tr>\n",
       "      <th>date</th>\n",
       "      <th></th>\n",
       "      <th></th>\n",
       "    </tr>\n",
       "  </thead>\n",
       "  <tbody>\n",
       "    <tr>\n",
       "      <th>0</th>\n",
       "      <td>143138</td>\n",
       "      <td>Monday</td>\n",
       "    </tr>\n",
       "    <tr>\n",
       "      <th>1</th>\n",
       "      <td>157436</td>\n",
       "      <td>Tuesday</td>\n",
       "    </tr>\n",
       "    <tr>\n",
       "      <th>2</th>\n",
       "      <td>161047</td>\n",
       "      <td>Wednesday</td>\n",
       "    </tr>\n",
       "    <tr>\n",
       "      <th>3</th>\n",
       "      <td>161316</td>\n",
       "      <td>Thursday</td>\n",
       "    </tr>\n",
       "    <tr>\n",
       "      <th>4</th>\n",
       "      <td>151590</td>\n",
       "      <td>Friday</td>\n",
       "    </tr>\n",
       "    <tr>\n",
       "      <th>5</th>\n",
       "      <td>46190</td>\n",
       "      <td>Saturday</td>\n",
       "    </tr>\n",
       "    <tr>\n",
       "      <th>6</th>\n",
       "      <td>46545</td>\n",
       "      <td>Sunday</td>\n",
       "    </tr>\n",
       "  </tbody>\n",
       "</table>\n",
       "</div>"
      ],
      "text/plain": [
       "      Number_of_tweets        day\n",
       "date                             \n",
       "0               143138     Monday\n",
       "1               157436    Tuesday\n",
       "2               161047  Wednesday\n",
       "3               161316   Thursday\n",
       "4               151590     Friday\n",
       "5                46190   Saturday\n",
       "6                46545     Sunday"
      ]
     },
     "execution_count": 43,
     "metadata": {},
     "output_type": "execute_result"
    }
   ],
   "source": [
    "#Number of Tweets based on Days\n",
    "days = ['Monday', 'Tuesday', 'Wednesday', 'Thursday', 'Friday', 'Saturday', 'Sunday']\n",
    "weekday_count['day'] = days\n",
    "weekday_count"
   ]
  },
  {
   "cell_type": "code",
   "execution_count": 44,
   "id": "3165b2e5",
   "metadata": {},
   "outputs": [
    {
     "data": {
      "image/png": "[encoded data removed]",
      "text/plain": [
       "<Figure size 432x288 with 1 Axes>"
      ]
     },
     "metadata": {
      "needs_background": "light"
     },
     "output_type": "display_data"
    }
   ],
   "source": [
    "day_of_week_plot = weekday_count['Number_of_tweets'].plot(kind='bar')\n",
    "xticks(np.arange(7), weekday_count['day'], rotation = 0, fontsize = 9) #, ha =\"left\") \n",
    "\n",
    "###IF WE DON'T WANT TO CREATE ANOTHER COLUMN IN DATAFRAME WE CAN SET CUSTOM LABELS\n",
    "#days = ['Monday', 'Tuesday', 'Wednesday', 'Thursday', 'Friday', 'Saturday', 'Sunday']\n",
    "#xticks(np.arange(7), days, rotation = 0,fontsize = 9) #, ha =\"left\") \n",
    "\n",
    "savefig('day-of-week counts.png', bbox_inches='tight', dpi=300, format='png')"
   ]
  },
  {
   "cell_type": "code",
   "execution_count": 45,
   "id": "b577c671",
   "metadata": {},
   "outputs": [
    {
     "data": {
      "text/html": [
       "<div>\n",
       "<style scoped>\n",
       "    .dataframe tbody tr th:only-of-type {\n",
       "        vertical-align: middle;\n",
       "    }\n",
       "\n",
       "    .dataframe tbody tr th {\n",
       "        vertical-align: top;\n",
       "    }\n",
       "\n",
       "    .dataframe thead th {\n",
       "        text-align: right;\n",
       "    }\n",
       "</style>\n",
       "<table border=\"1\" class=\"dataframe\">\n",
       "  <thead>\n",
       "    <tr style=\"text-align: right;\">\n",
       "      <th></th>\n",
       "      <th>Number_of_tweets</th>\n",
       "    </tr>\n",
       "    <tr>\n",
       "      <th>date</th>\n",
       "      <th></th>\n",
       "    </tr>\n",
       "  </thead>\n",
       "  <tbody>\n",
       "    <tr>\n",
       "      <th>0</th>\n",
       "      <td>13955</td>\n",
       "    </tr>\n",
       "    <tr>\n",
       "      <th>1</th>\n",
       "      <td>24903</td>\n",
       "    </tr>\n",
       "    <tr>\n",
       "      <th>2</th>\n",
       "      <td>9317</td>\n",
       "    </tr>\n",
       "    <tr>\n",
       "      <th>3</th>\n",
       "      <td>7127</td>\n",
       "    </tr>\n",
       "    <tr>\n",
       "      <th>4</th>\n",
       "      <td>10880</td>\n",
       "    </tr>\n",
       "    <tr>\n",
       "      <th>5</th>\n",
       "      <td>10592</td>\n",
       "    </tr>\n",
       "    <tr>\n",
       "      <th>6</th>\n",
       "      <td>19227</td>\n",
       "    </tr>\n",
       "    <tr>\n",
       "      <th>7</th>\n",
       "      <td>29126</td>\n",
       "    </tr>\n",
       "    <tr>\n",
       "      <th>8</th>\n",
       "      <td>41007</td>\n",
       "    </tr>\n",
       "    <tr>\n",
       "      <th>9</th>\n",
       "      <td>28012</td>\n",
       "    </tr>\n",
       "    <tr>\n",
       "      <th>10</th>\n",
       "      <td>53030</td>\n",
       "    </tr>\n",
       "    <tr>\n",
       "      <th>11</th>\n",
       "      <td>49169</td>\n",
       "    </tr>\n",
       "    <tr>\n",
       "      <th>12</th>\n",
       "      <td>26170</td>\n",
       "    </tr>\n",
       "    <tr>\n",
       "      <th>13</th>\n",
       "      <td>22317</td>\n",
       "    </tr>\n",
       "    <tr>\n",
       "      <th>14</th>\n",
       "      <td>50917</td>\n",
       "    </tr>\n",
       "    <tr>\n",
       "      <th>15</th>\n",
       "      <td>61074</td>\n",
       "    </tr>\n",
       "    <tr>\n",
       "      <th>16</th>\n",
       "      <td>63913</td>\n",
       "    </tr>\n",
       "    <tr>\n",
       "      <th>17</th>\n",
       "      <td>86826</td>\n",
       "    </tr>\n",
       "    <tr>\n",
       "      <th>18</th>\n",
       "      <td>103192</td>\n",
       "    </tr>\n",
       "    <tr>\n",
       "      <th>19</th>\n",
       "      <td>33575</td>\n",
       "    </tr>\n",
       "    <tr>\n",
       "      <th>20</th>\n",
       "      <td>42993</td>\n",
       "    </tr>\n",
       "    <tr>\n",
       "      <th>21</th>\n",
       "      <td>31142</td>\n",
       "    </tr>\n",
       "    <tr>\n",
       "      <th>22</th>\n",
       "      <td>30680</td>\n",
       "    </tr>\n",
       "    <tr>\n",
       "      <th>23</th>\n",
       "      <td>18118</td>\n",
       "    </tr>\n",
       "  </tbody>\n",
       "</table>\n",
       "</div>"
      ],
      "text/plain": [
       "      Number_of_tweets\n",
       "date                  \n",
       "0                13955\n",
       "1                24903\n",
       "2                 9317\n",
       "3                 7127\n",
       "4                10880\n",
       "5                10592\n",
       "6                19227\n",
       "7                29126\n",
       "8                41007\n",
       "9                28012\n",
       "10               53030\n",
       "11               49169\n",
       "12               26170\n",
       "13               22317\n",
       "14               50917\n",
       "15               61074\n",
       "16               63913\n",
       "17               86826\n",
       "18              103192\n",
       "19               33575\n",
       "20               42993\n",
       "21               31142\n",
       "22               30680\n",
       "23               18118"
      ]
     },
     "execution_count": 45,
     "metadata": {},
     "output_type": "execute_result"
    }
   ],
   "source": [
    "#Number of Tweets based on hours\n",
    "hourly_count = df.groupby(df.index.hour).apply(f)\n",
    "len(hourly_count)\n",
    "hourly_count"
   ]
  },
  {
   "cell_type": "code",
   "execution_count": 46,
   "id": "681f1742",
   "metadata": {},
   "outputs": [
    {
     "data": {
      "image/png": "[encoded data removed]",
      "text/plain": [
       "<Figure size 432x288 with 1 Axes>"
      ]
     },
     "metadata": {
      "needs_background": "light"
     },
     "output_type": "display_data"
    }
   ],
   "source": [
    "hourly_plot = hourly_count['Number_of_tweets'].plot()"
   ]
  },
  {
   "cell_type": "code",
   "execution_count": 47,
   "id": "5033b4b1",
   "metadata": {},
   "outputs": [
    {
     "data": {
      "image/png": "[encoded data removed]",
      "text/plain": [
       "<Figure size 432x288 with 1 Axes>"
      ]
     },
     "metadata": {
      "needs_background": "light"
     },
     "output_type": "display_data"
    }
   ],
   "source": [
    "hourly_plot = hourly_count['Number_of_tweets'].plot(kind='bar')\n",
    "hours = list(range(1,25))                                                 #GENERATE LIST FROM 1 TO 24\n",
    "xticks(np.arange(24), hours, rotation = 0,fontsize = 9)                   #USE THE CUSTOM TICKS\n",
    "\n",
    "hourly_plot.set_xlabel('Hour of the Day', weight='bold', labelpad=15)     #SET X-AXIS LABEL, ADD PADDING TO TOP OF X-AXIS LABEL\n",
    "hourly_plot.set_ylabel('No. of Tweets (Messages)', weight='bold', labelpad=15) #SET Y-AXIS LABEL, ADD PADDING TO RIGHT OF Y-AXIS LABEL\n",
    "\n",
    "xticks(fontsize = 9, rotation = 0, ha= \"center\")                          #SET FONT SIZE FOR X-AXIS TICK LABELS\n",
    "yticks(fontsize = 9)                                                      #SET FONT SIZE FOR Y-AXIS TICK LABELS\n",
    "daily_plot.tick_params(axis='x', pad=5)                                   #SET PADDING ABOVE X-AXIS LABELS\n",
    "\n",
    "daily_plot.legend_ = None                                                 #TURN OFF LEGEND\n",
    "\n",
    "savefig('hourly counts - bar graph.png', bbox_inches='tight', dpi=300, format='png')"
   ]
  },
  {
   "cell_type": "code",
   "execution_count": 48,
   "id": "fe95c6fa",
   "metadata": {},
   "outputs": [
    {
     "data": {
      "text/html": [
       "<div>\n",
       "<style scoped>\n",
       "    .dataframe tbody tr th:only-of-type {\n",
       "        vertical-align: middle;\n",
       "    }\n",
       "\n",
       "    .dataframe tbody tr th {\n",
       "        vertical-align: top;\n",
       "    }\n",
       "\n",
       "    .dataframe thead th {\n",
       "        text-align: right;\n",
       "    }\n",
       "</style>\n",
       "<table border=\"1\" class=\"dataframe\">\n",
       "  <thead>\n",
       "    <tr style=\"text-align: right;\">\n",
       "      <th></th>\n",
       "      <th>Number_of_tweets</th>\n",
       "    </tr>\n",
       "    <tr>\n",
       "      <th>date</th>\n",
       "      <th></th>\n",
       "    </tr>\n",
       "  </thead>\n",
       "  <tbody>\n",
       "    <tr>\n",
       "      <th>1</th>\n",
       "      <td>18684</td>\n",
       "    </tr>\n",
       "    <tr>\n",
       "      <th>2</th>\n",
       "      <td>66943</td>\n",
       "    </tr>\n",
       "    <tr>\n",
       "      <th>3</th>\n",
       "      <td>27707</td>\n",
       "    </tr>\n",
       "    <tr>\n",
       "      <th>4</th>\n",
       "      <td>10171</td>\n",
       "    </tr>\n",
       "    <tr>\n",
       "      <th>5</th>\n",
       "      <td>36115</td>\n",
       "    </tr>\n",
       "    <tr>\n",
       "      <th>6</th>\n",
       "      <td>80680</td>\n",
       "    </tr>\n",
       "    <tr>\n",
       "      <th>7</th>\n",
       "      <td>122319</td>\n",
       "    </tr>\n",
       "    <tr>\n",
       "      <th>8</th>\n",
       "      <td>75626</td>\n",
       "    </tr>\n",
       "    <tr>\n",
       "      <th>9</th>\n",
       "      <td>122999</td>\n",
       "    </tr>\n",
       "    <tr>\n",
       "      <th>10</th>\n",
       "      <td>86993</td>\n",
       "    </tr>\n",
       "    <tr>\n",
       "      <th>11</th>\n",
       "      <td>102424</td>\n",
       "    </tr>\n",
       "    <tr>\n",
       "      <th>12</th>\n",
       "      <td>116601</td>\n",
       "    </tr>\n",
       "  </tbody>\n",
       "</table>\n",
       "</div>"
      ],
      "text/plain": [
       "      Number_of_tweets\n",
       "date                  \n",
       "1                18684\n",
       "2                66943\n",
       "3                27707\n",
       "4                10171\n",
       "5                36115\n",
       "6                80680\n",
       "7               122319\n",
       "8                75626\n",
       "9               122999\n",
       "10               86993\n",
       "11              102424\n",
       "12              116601"
      ]
     },
     "execution_count": 48,
     "metadata": {},
     "output_type": "execute_result"
    }
   ],
   "source": [
    "#Number of Tweets based on Month\n",
    "monthly_count = df.groupby(df.index.month).apply(f)\n",
    "len(monthly_count)\n",
    "monthly_count"
   ]
  },
  {
   "cell_type": "code",
   "execution_count": 49,
   "id": "b62e6f62",
   "metadata": {},
   "outputs": [
    {
     "data": {
      "image/png": "[encoded data removed]",
      "text/plain": [
       "<Figure size 432x288 with 1 Axes>"
      ]
     },
     "metadata": {
      "needs_background": "light"
     },
     "output_type": "display_data"
    }
   ],
   "source": [
    "import calendar\n",
    "monthly_plot = monthly_count['Number_of_tweets'].plot(kind='bar')\n",
    "months = list(calendar.month_name[1:])                                    #GENERATE LIST OF MONTHS\n",
    "xticks(np.arange(12), months, rotation = 0,fontsize = 6)                  #USE THE CUSTOM TICKS\n",
    "\n",
    "monthly_plot.set_xlabel('Month of the Year', weight='bold', labelpad=10)  #SET X-AXIS LABEL, ADD PADDING TO TOP OF X-AXIS LABEL\n",
    "monthly_plot.set_ylabel('No. of Tweets (Messages)', weight='bold', labelpad=15) #SET Y-AXIS LABEL, ADD PADDING TO RIGHT OF Y-AXIS LABEL\n",
    "\n",
    "xticks(fontsize = 9, rotation = 0, ha= \"center\")                          #SET FONT SIZE FOR X-AXIS TICK LABELS\n",
    "yticks(fontsize = 9)                                                      #SET FONT SIZE FOR Y-AXIS TICK LABELS\n",
    "daily_plot.tick_params(axis='x', pad=5)                                   #SET PADDING ABOVE X-AXIS LABELS\n",
    "\n",
    "daily_plot.legend_ = None                                                 #TURN OFF LEGEND\n",
    "\n",
    "savefig('monthly counts - bar graph.png', bbox_inches='tight', dpi=400, format='png')"
   ]
  },
  {
   "cell_type": "code",
   "execution_count": null,
   "id": "5bf680ca",
   "metadata": {},
   "outputs": [],
   "source": []
  }
 ],
 "metadata": {
  "kernelspec": {
   "display_name": "Python 3",
   "language": "python",
   "name": "python3"
  },
  "language_info": {
   "codemirror_mode": {
    "name": "ipython",
    "version": 3
   },
   "file_extension": ".py",
   "mimetype": "text/x-python",
   "name": "python",
   "nbconvert_exporter": "python",
   "pygments_lexer": "ipython3",
   "version": "3.7.4"
  }
 },
 "nbformat": 4,
 "nbformat_minor": 5
}
